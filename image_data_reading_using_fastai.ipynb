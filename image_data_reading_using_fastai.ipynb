{
  "nbformat": 4,
  "nbformat_minor": 0,
  "metadata": {
    "colab": {
      "name": "image data reading using fastai.ipynb",
      "provenance": [],
      "private_outputs": true,
      "authorship_tag": "ABX9TyMvKc0zGsnxhWlPwAgAom2o",
      "include_colab_link": true
    },
    "kernelspec": {
      "name": "python3",
      "display_name": "Python 3"
    },
    "accelerator": "GPU"
  },
  "cells": [
    {
      "cell_type": "markdown",
      "metadata": {
        "id": "view-in-github",
        "colab_type": "text"
      },
      "source": [
        "<a href=\"https://colab.research.google.com/github/pavansai26/image-data-reading-using-fast-ai/blob/master/image_data_reading_using_fastai.ipynb\" target=\"_parent\"><img src=\"https://colab.research.google.com/assets/colab-badge.svg\" alt=\"Open In Colab\"/></a>"
      ]
    },
    {
      "cell_type": "code",
      "metadata": {
        "id": "W10qmzSIFu03",
        "colab_type": "code",
        "colab": {}
      },
      "source": [
        "import fastai"
      ],
      "execution_count": 0,
      "outputs": []
    },
    {
      "cell_type": "code",
      "metadata": {
        "id": "q29eTWUEF7Pw",
        "colab_type": "code",
        "colab": {}
      },
      "source": [
        "from fastai import *\n",
        "from fastai.vision import *\n",
        "import matplotlib.pyplot as plt\n",
        "import numpy as np\n",
        "from PIL import Image"
      ],
      "execution_count": 0,
      "outputs": []
    },
    {
      "cell_type": "code",
      "metadata": {
        "id": "84jSTk3qGDNP",
        "colab_type": "code",
        "colab": {}
      },
      "source": [
        "path=untar_data(URLs.MNIST_SAMPLE);path"
      ],
      "execution_count": 0,
      "outputs": []
    },
    {
      "cell_type": "code",
      "metadata": {
        "id": "AWVYFPMLGQaA",
        "colab_type": "code",
        "colab": {}
      },
      "source": [
        "tfms=get_transforms(do_flip=False)"
      ],
      "execution_count": 0,
      "outputs": []
    },
    {
      "cell_type": "code",
      "metadata": {
        "id": "oqANMAjlHho7",
        "colab_type": "code",
        "colab": {}
      },
      "source": [
        "data=ImageDataBunch.from_folder(path,ds_tfms=tfms,size=26)"
      ],
      "execution_count": 0,
      "outputs": []
    },
    {
      "cell_type": "code",
      "metadata": {
        "id": "l_KOl2tnHxh6",
        "colab_type": "code",
        "colab": {}
      },
      "source": [
        "data.show_batch(rows=4,figsize=(6,6))"
      ],
      "execution_count": 0,
      "outputs": []
    },
    {
      "cell_type": "code",
      "metadata": {
        "id": "GLMfcHjNH6df",
        "colab_type": "code",
        "colab": {}
      },
      "source": [
        "path.ls()"
      ],
      "execution_count": 0,
      "outputs": []
    },
    {
      "cell_type": "code",
      "metadata": {
        "id": "Yy09xL88IGIq",
        "colab_type": "code",
        "colab": {}
      },
      "source": [
        "(path/'train').ls()"
      ],
      "execution_count": 0,
      "outputs": []
    },
    {
      "cell_type": "code",
      "metadata": {
        "id": "dCH1Ola0IOpg",
        "colab_type": "code",
        "colab": {}
      },
      "source": [
        "learn=cnn_learner(data, models.resnet18, metrics=error_rate)"
      ],
      "execution_count": 0,
      "outputs": []
    },
    {
      "cell_type": "code",
      "metadata": {
        "id": "q9bva0xoI6Q8",
        "colab_type": "code",
        "colab": {}
      },
      "source": [
        "learn.fit(2)"
      ],
      "execution_count": 0,
      "outputs": []
    },
    {
      "cell_type": "code",
      "metadata": {
        "id": "xL4sOPx9I-G9",
        "colab_type": "code",
        "colab": {}
      },
      "source": [
        "df=pd.read_csv(path/'labels.csv')\n",
        "df.head()"
      ],
      "execution_count": 0,
      "outputs": []
    },
    {
      "cell_type": "code",
      "metadata": {
        "id": "lu4VIMdeJHoZ",
        "colab_type": "code",
        "colab": {}
      },
      "source": [
        "data=ImageDataBunch.from_csv(path,ds_tfms=tfms,size=28)"
      ],
      "execution_count": 0,
      "outputs": []
    },
    {
      "cell_type": "code",
      "metadata": {
        "id": "xVAy7SvoJmZY",
        "colab_type": "code",
        "colab": {}
      },
      "source": [
        "data.show_batch(rows=3,figsize=(5,5))\n",
        "data.classes"
      ],
      "execution_count": 0,
      "outputs": []
    },
    {
      "cell_type": "code",
      "metadata": {
        "id": "Cg0SYP_zKRxJ",
        "colab_type": "code",
        "colab": {}
      },
      "source": [
        "data=ImageDataBunch.from_df(path,df,ds_tfms=tfms,size=24)\n",
        "data.classes"
      ],
      "execution_count": 0,
      "outputs": []
    },
    {
      "cell_type": "code",
      "metadata": {
        "id": "DtC_V17LLJt5",
        "colab_type": "code",
        "colab": {}
      },
      "source": [
        "fn_paths=[path/name for name in df['name']];fn_paths[:2]"
      ],
      "execution_count": 0,
      "outputs": []
    },
    {
      "cell_type": "code",
      "metadata": {
        "id": "ihof4w0ALXRD",
        "colab_type": "code",
        "colab": {}
      },
      "source": [
        "pat=r'/(\\d)/\\d+\\.png$'\n",
        "data=ImageDataBunch.from_name_re(path,fn_paths,pat=pat,ds_tfms=tfms,size=24)\n",
        "data.classes"
      ],
      "execution_count": 0,
      "outputs": []
    },
    {
      "cell_type": "code",
      "metadata": {
        "id": "mHb4dSszMAMg",
        "colab_type": "code",
        "colab": {}
      },
      "source": [
        "data=ImageDataBunch.from_name_func(path,fn_paths,ds_tfms=tfms,size=24,label_func=lambda x: '3' if '/3/' in str(x) else '7')\n",
        "data.classes"
      ],
      "execution_count": 0,
      "outputs": []
    },
    {
      "cell_type": "code",
      "metadata": {
        "id": "MktfOj0IMrI_",
        "colab_type": "code",
        "colab": {}
      },
      "source": [
        "labels=[('3' if '/3/' in str(x) else '7') for x in fn_paths]\n",
        "labels[:5]"
      ],
      "execution_count": 0,
      "outputs": []
    },
    {
      "cell_type": "code",
      "metadata": {
        "id": "sq74HMlgNCSm",
        "colab_type": "code",
        "colab": {}
      },
      "source": [
        "data=ImageDataBunch.from_lists(path,fn_paths,labels=labels,ds_tfms=tfms,size=24)\n",
        "data.classes"
      ],
      "execution_count": 0,
      "outputs": []
    },
    {
      "cell_type": "code",
      "metadata": {
        "id": "K8kt2Qo5NeHC",
        "colab_type": "code",
        "colab": {}
      },
      "source": [
        ""
      ],
      "execution_count": 0,
      "outputs": []
    }
  ]
}